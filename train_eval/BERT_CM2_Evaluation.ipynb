{
  "nbformat": 4,
  "nbformat_minor": 0,
  "metadata": {
    "colab": {
      "name": "BERT_CM2_Evaluation.ipynb",
      "provenance": []
    },
    "kernelspec": {
      "name": "python3",
      "display_name": "Python 3"
    },
    "language_info": {
      "name": "python"
    }
  },
  "cells": [
    {
      "cell_type": "code",
      "metadata": {
        "id": "A81KilCbdXYv"
      },
      "source": [
        "## Google Colab- Google Drive connectionsinstructions \n",
        "\n",
        "# This step needs to be done for the first time when you're reading something from the Shared Project Folder \n",
        "# Please navigate to \"Shared with me\" on your Gdrive home sceen\n",
        "# Right click on the \"NLP-Group1-FinalProj\" (the primary folder for this project) and select \"Add shortcut to Drive\"\n",
        "# This way the below code can find a link to the Project drive folder through your own drive.\n",
        "\n",
        "\n",
        "# Mounting your personal Gdrive to the Colab notebook\n",
        "from google.colab import drive\n",
        "drive.mount('/gdrive',force_remount=True)"
      ],
      "execution_count": null,
      "outputs": []
    },
    {
      "cell_type": "markdown",
      "metadata": {
        "id": "EVxmXk0bZF_U"
      },
      "source": [
        "# Model Reload and trials"
      ]
    },
    {
      "cell_type": "code",
      "metadata": {
        "id": "dY5pUYhbX40o"
      },
      "source": [
        "reloaded_model = tf.saved_model.load(saved_model_path)"
      ],
      "execution_count": null,
      "outputs": []
    },
    {
      "cell_type": "code",
      "metadata": {
        "id": "vKov11aaX7d5",
        "colab": {
          "base_uri": "https://localhost:8080/"
        },
        "outputId": "6b8bac8c-fce8-42a8-f08b-eabd00c0e282"
      },
      "source": [
        "def print_my_examples(inputs, results):\n",
        "  result_for_printing = \\\n",
        "    [f'input: {inputs[i]:<30} : score: {results[i][0]:.6f}'\n",
        "                         for i in range(len(inputs))]\n",
        "  print(*result_for_printing, sep='\\n')\n",
        "  print()\n",
        "\n",
        "\n",
        "examples = [\n",
        "    'I bought it for my girlfriend. The taste feeling of this chocolate is fancy. My girlfriend loves it very much!',  # this is the same sentence tried earlier\n",
        "    'A creamy, good quality kit kat. Tastes mostly like white chocolate with a slight touch of green tea. I would have preferred a slightly more pronounced green tea flavor. Its a very smooth flavor and is less sweeter than traditional kit kats.I shared it with others and the response was neutral. I personally liked it.I ordered mine from SamuraiJapan with standard shipping and received the product in about 2 weeks. Fair enough. The item was well packaged and the chocolates are in excellent condition.',\n",
        "    'I bought it for my 17 year old as she loves kit kat.We bought a mix of available flavours.This was to be the cream of the cake as it was special, but unfortunately it came somewhat crushed and the taste was nothing to write home about...',\n",
        "    'i have to ration these things they are so good, these were not melted like previous bags were. I just wish they werent so pricey.',\n",
        "    'Dont buy this item - rip off at this price.  My bad, my mistake.  Pay attention to the quantity and dont pay more than $4-5 per bottle'\n",
        "]\n",
        "\n",
        "reloaded_results = tf.sigmoid(reloaded_model(tf.constant(examples)))\n",
        "original_results = tf.sigmoid(classifier_model(tf.constant(examples)))\n",
        "\n",
        "print('Results from the saved model:')\n",
        "print_my_examples(examples, reloaded_results)\n",
        "print('Results from the pretrained base model:')\n",
        "print_my_examples(examples, original_results)"
      ],
      "execution_count": null,
      "outputs": [
        {
          "output_type": "stream",
          "name": "stdout",
          "text": [
            "Results from the saved model:\n",
            "input: I bought it for my girlfriend. The taste feeling of this chocolate is fancy. My girlfriend loves it very much! : score: 0.999391\n",
            "input: A creamy, good quality kit kat. Tastes mostly like white chocolate with a slight touch of green tea. I would have preferred a slightly more pronounced green tea flavor. Its a very smooth flavor and is less sweeter than traditional kit kats.I shared it with others and the response was neutral. I personally liked it.I ordered mine from SamuraiJapan with standard shipping and received the product in about 2 weeks. Fair enough. The item was well packaged and the chocolates are in excellent condition. : score: 0.998962\n",
            "input: I bought it for my 17 year old as she loves kit kat.We bought a mix of available flavours.This was to be the cream of the cake as it was special, but unfortunately it came somewhat crushed and the taste was nothing to write home about... : score: 0.000788\n",
            "input: i have to ration these things they are so good, these were not melted like previous bags were. I just wish they werent so pricey. : score: 0.993020\n",
            "input: Dont buy this item - rip off at this price.  My bad, my mistake.  Pay attention to the quantity and dont pay more than $4-5 per bottle : score: 0.001010\n",
            "\n",
            "Results from the model in memory:\n",
            "input: I bought it for my girlfriend. The taste feeling of this chocolate is fancy. My girlfriend loves it very much! : score: 0.386117\n",
            "input: A creamy, good quality kit kat. Tastes mostly like white chocolate with a slight touch of green tea. I would have preferred a slightly more pronounced green tea flavor. Its a very smooth flavor and is less sweeter than traditional kit kats.I shared it with others and the response was neutral. I personally liked it.I ordered mine from SamuraiJapan with standard shipping and received the product in about 2 weeks. Fair enough. The item was well packaged and the chocolates are in excellent condition. : score: 0.379885\n",
            "input: I bought it for my 17 year old as she loves kit kat.We bought a mix of available flavours.This was to be the cream of the cake as it was special, but unfortunately it came somewhat crushed and the taste was nothing to write home about... : score: 0.379796\n",
            "input: i have to ration these things they are so good, these were not melted like previous bags were. I just wish they werent so pricey. : score: 0.339844\n",
            "input: Dont buy this item - rip off at this price.  My bad, my mistake.  Pay attention to the quantity and dont pay more than $4-5 per bottle : score: 0.290808\n",
            "\n"
          ]
        }
      ]
    },
    {
      "cell_type": "code",
      "metadata": {
        "colab": {
          "base_uri": "https://localhost:8080/"
        },
        "id": "xAhQYIeZdD_p",
        "outputId": "510020b4-c667-471b-e98a-66696827c367"
      },
      "source": [
        "reloaded_results"
      ],
      "execution_count": null,
      "outputs": [
        {
          "output_type": "execute_result",
          "data": {
            "text/plain": [
              "<tf.Tensor: shape=(5, 1), dtype=float32, numpy=\n",
              "array([[9.9939072e-01],\n",
              "       [9.9896240e-01],\n",
              "       [7.8778755e-04],\n",
              "       [9.9301952e-01],\n",
              "       [1.0096537e-03]], dtype=float32)>"
            ]
          },
          "metadata": {},
          "execution_count": 44
        }
      ]
    },
    {
      "cell_type": "code",
      "metadata": {
        "id": "aYyB-tZTX9R_",
        "colab": {
          "base_uri": "https://localhost:8080/"
        },
        "outputId": "4243b69a-0f78-4694-8891-7cfd2c42e432"
      },
      "source": [
        "serving_results = reloaded_model \\\n",
        "            .signatures['serving_default'](tf.constant(examples))\n",
        "\n",
        "serving_results = tf.sigmoid(serving_results['classifier'])\n",
        "\n",
        "print_my_examples(examples, serving_results)"
      ],
      "execution_count": null,
      "outputs": [
        {
          "output_type": "stream",
          "name": "stdout",
          "text": [
            "input: this is such an amazing movie! : score: 0.999707\n",
            "input: The movie was great!           : score: 0.998783\n",
            "input: The movie was meh.             : score: 0.094715\n",
            "input: The movie was okish.           : score: 0.017398\n",
            "input: The movie was terrible...      : score: 0.001925\n",
            "\n"
          ]
        }
      ]
    },
    {
      "cell_type": "code",
      "metadata": {
        "id": "KZlTFb4MTx1G"
      },
      "source": [
        ""
      ],
      "execution_count": null,
      "outputs": []
    }
  ]
}